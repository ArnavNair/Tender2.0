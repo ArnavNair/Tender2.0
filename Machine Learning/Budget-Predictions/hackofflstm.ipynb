{
  "nbformat": 4,
  "nbformat_minor": 0,
  "metadata": {
    "kernelspec": {
      "name": "python3",
      "display_name": "Python 3"
    },
    "language_info": {
      "codemirror_mode": {
        "name": "ipython",
        "version": 3
      },
      "file_extension": ".py",
      "mimetype": "text/x-python",
      "name": "python",
      "nbconvert_exporter": "python",
      "pygments_lexer": "ipython3",
      "version": "3.7.3"
    },
    "colab": {
      "name": "hackofflstm.ipynb",
      "provenance": []
    },
    "accelerator": "GPU"
  },
  "cells": [
    {
      "cell_type": "code",
      "metadata": {
        "id": "pkSDCh8YbYGH",
        "colab_type": "code",
        "colab": {}
      },
      "source": [
        "import pandas as pd\n",
        "import numpy as np\n",
        "import matplotlib.pyplot as plt"
      ],
      "execution_count": 0,
      "outputs": []
    },
    {
      "cell_type": "code",
      "metadata": {
        "id": "3TxJQTLqbf6j",
        "colab_type": "code",
        "outputId": "43a0f7e0-56c2-4788-be17-bf1684166a5d",
        "colab": {
          "base_uri": "https://localhost:8080/",
          "height": 34
        }
      },
      "source": [
        "!git clone https://github.com/SkaMessi10/Hackoff_Data_BitsPlease.git"
      ],
      "execution_count": 25,
      "outputs": [
        {
          "output_type": "stream",
          "text": [
            "fatal: destination path 'Hackoff_Data_BitsPlease' already exists and is not an empty directory.\n"
          ],
          "name": "stdout"
        }
      ]
    },
    {
      "cell_type": "code",
      "metadata": {
        "id": "Uhm_hViObYGP",
        "colab_type": "code",
        "colab": {}
      },
      "source": [
        "capital = pd.read_csv('/content/Hackoff_Data_BitsPlease/Capital_Expenditure1.csv')\n",
        "military = pd.read_csv('/content/Hackoff_Data_BitsPlease/Military Expenditure1.csv')\n",
        "social_sector = pd.read_csv('/content/Hackoff_Data_BitsPlease/Social_Sector_Expenditure1.csv')"
      ],
      "execution_count": 0,
      "outputs": []
    },
    {
      "cell_type": "code",
      "metadata": {
        "id": "jJKAltuFbYGU",
        "colab_type": "code",
        "outputId": "e2f1fad4-2300-47f1-e7a5-300993285fe6",
        "colab": {
          "base_uri": "https://localhost:8080/",
          "height": 206
        }
      },
      "source": [
        "capital.head()"
      ],
      "execution_count": 333,
      "outputs": [
        {
          "output_type": "execute_result",
          "data": {
            "text/html": [
              "<div>\n",
              "<style scoped>\n",
              "    .dataframe tbody tr th:only-of-type {\n",
              "        vertical-align: middle;\n",
              "    }\n",
              "\n",
              "    .dataframe tbody tr th {\n",
              "        vertical-align: top;\n",
              "    }\n",
              "\n",
              "    .dataframe thead th {\n",
              "        text-align: right;\n",
              "    }\n",
              "</style>\n",
              "<table border=\"1\" class=\"dataframe\">\n",
              "  <thead>\n",
              "    <tr style=\"text-align: right;\">\n",
              "      <th></th>\n",
              "      <th>State</th>\n",
              "      <th>Total expenditure</th>\n",
              "    </tr>\n",
              "  </thead>\n",
              "  <tbody>\n",
              "    <tr>\n",
              "      <th>0</th>\n",
              "      <td>1980-81</td>\n",
              "      <td>7856.0</td>\n",
              "    </tr>\n",
              "    <tr>\n",
              "      <th>1</th>\n",
              "      <td>1981-82</td>\n",
              "      <td>8095.0</td>\n",
              "    </tr>\n",
              "    <tr>\n",
              "      <th>2</th>\n",
              "      <td>1982-83</td>\n",
              "      <td>8505.0</td>\n",
              "    </tr>\n",
              "    <tr>\n",
              "      <th>3</th>\n",
              "      <td>1983-84</td>\n",
              "      <td>9738.0</td>\n",
              "    </tr>\n",
              "    <tr>\n",
              "      <th>4</th>\n",
              "      <td>1984-85</td>\n",
              "      <td>11509.0</td>\n",
              "    </tr>\n",
              "  </tbody>\n",
              "</table>\n",
              "</div>"
            ],
            "text/plain": [
              "     State  Total expenditure\n",
              "0  1980-81             7856.0\n",
              "1  1981-82             8095.0\n",
              "2  1982-83             8505.0\n",
              "3  1983-84             9738.0\n",
              "4  1984-85            11509.0"
            ]
          },
          "metadata": {
            "tags": []
          },
          "execution_count": 333
        }
      ]
    },
    {
      "cell_type": "code",
      "metadata": {
        "id": "iK07wSC7bYGZ",
        "colab_type": "code",
        "outputId": "43fcade3-97a9-4e60-8dd5-14052b32cce3",
        "colab": {
          "base_uri": "https://localhost:8080/",
          "height": 206
        }
      },
      "source": [
        "capital.tail()"
      ],
      "execution_count": 334,
      "outputs": [
        {
          "output_type": "execute_result",
          "data": {
            "text/html": [
              "<div>\n",
              "<style scoped>\n",
              "    .dataframe tbody tr th:only-of-type {\n",
              "        vertical-align: middle;\n",
              "    }\n",
              "\n",
              "    .dataframe tbody tr th {\n",
              "        vertical-align: top;\n",
              "    }\n",
              "\n",
              "    .dataframe thead th {\n",
              "        text-align: right;\n",
              "    }\n",
              "</style>\n",
              "<table border=\"1\" class=\"dataframe\">\n",
              "  <thead>\n",
              "    <tr style=\"text-align: right;\">\n",
              "      <th></th>\n",
              "      <th>State</th>\n",
              "      <th>Total expenditure</th>\n",
              "    </tr>\n",
              "  </thead>\n",
              "  <tbody>\n",
              "    <tr>\n",
              "      <th>31</th>\n",
              "      <td>2011-12</td>\n",
              "      <td>286012.74</td>\n",
              "    </tr>\n",
              "    <tr>\n",
              "      <th>32</th>\n",
              "      <td>2012-13</td>\n",
              "      <td>312257.22</td>\n",
              "    </tr>\n",
              "    <tr>\n",
              "      <th>33</th>\n",
              "      <td>2013-14</td>\n",
              "      <td>337572.64</td>\n",
              "    </tr>\n",
              "    <tr>\n",
              "      <th>34</th>\n",
              "      <td>2014-15 (RE)</td>\n",
              "      <td>447963.14</td>\n",
              "    </tr>\n",
              "    <tr>\n",
              "      <th>35</th>\n",
              "      <td>2015-16 (BE)</td>\n",
              "      <td>498340.39</td>\n",
              "    </tr>\n",
              "  </tbody>\n",
              "</table>\n",
              "</div>"
            ],
            "text/plain": [
              "           State  Total expenditure\n",
              "31       2011-12          286012.74\n",
              "32       2012-13          312257.22\n",
              "33       2013-14          337572.64\n",
              "34  2014-15 (RE)          447963.14\n",
              "35  2015-16 (BE)          498340.39"
            ]
          },
          "metadata": {
            "tags": []
          },
          "execution_count": 334
        }
      ]
    },
    {
      "cell_type": "code",
      "metadata": {
        "id": "Fw4jbgcpbYGf",
        "colab_type": "code",
        "outputId": "e36f7cb0-fb30-4578-873b-1e6f849f6bab",
        "colab": {
          "base_uri": "https://localhost:8080/",
          "height": 206
        }
      },
      "source": [
        "military.head()\n"
      ],
      "execution_count": 335,
      "outputs": [
        {
          "output_type": "execute_result",
          "data": {
            "text/html": [
              "<div>\n",
              "<style scoped>\n",
              "    .dataframe tbody tr th:only-of-type {\n",
              "        vertical-align: middle;\n",
              "    }\n",
              "\n",
              "    .dataframe tbody tr th {\n",
              "        vertical-align: top;\n",
              "    }\n",
              "\n",
              "    .dataframe thead th {\n",
              "        text-align: right;\n",
              "    }\n",
              "</style>\n",
              "<table border=\"1\" class=\"dataframe\">\n",
              "  <thead>\n",
              "    <tr style=\"text-align: right;\">\n",
              "      <th></th>\n",
              "      <th>Year</th>\n",
              "      <th>Expenditure</th>\n",
              "    </tr>\n",
              "  </thead>\n",
              "  <tbody>\n",
              "    <tr>\n",
              "      <th>0</th>\n",
              "      <td>1960</td>\n",
              "      <td>6.817657e+08</td>\n",
              "    </tr>\n",
              "    <tr>\n",
              "      <th>1</th>\n",
              "      <td>1961</td>\n",
              "      <td>8.120000e+08</td>\n",
              "    </tr>\n",
              "    <tr>\n",
              "      <th>2</th>\n",
              "      <td>1962</td>\n",
              "      <td>1.065436e+09</td>\n",
              "    </tr>\n",
              "    <tr>\n",
              "      <th>3</th>\n",
              "      <td>1963</td>\n",
              "      <td>1.795449e+09</td>\n",
              "    </tr>\n",
              "    <tr>\n",
              "      <th>4</th>\n",
              "      <td>1964</td>\n",
              "      <td>1.986654e+09</td>\n",
              "    </tr>\n",
              "  </tbody>\n",
              "</table>\n",
              "</div>"
            ],
            "text/plain": [
              "   Year   Expenditure\n",
              "0  1960  6.817657e+08\n",
              "1  1961  8.120000e+08\n",
              "2  1962  1.065436e+09\n",
              "3  1963  1.795449e+09\n",
              "4  1964  1.986654e+09"
            ]
          },
          "metadata": {
            "tags": []
          },
          "execution_count": 335
        }
      ]
    },
    {
      "cell_type": "code",
      "metadata": {
        "id": "-5KBjw-TbYGr",
        "colab_type": "code",
        "outputId": "646e8901-fcbd-4b1e-f3ac-1c82fdf5271c",
        "colab": {
          "base_uri": "https://localhost:8080/",
          "height": 206
        }
      },
      "source": [
        "military.tail()"
      ],
      "execution_count": 336,
      "outputs": [
        {
          "output_type": "execute_result",
          "data": {
            "text/html": [
              "<div>\n",
              "<style scoped>\n",
              "    .dataframe tbody tr th:only-of-type {\n",
              "        vertical-align: middle;\n",
              "    }\n",
              "\n",
              "    .dataframe tbody tr th {\n",
              "        vertical-align: top;\n",
              "    }\n",
              "\n",
              "    .dataframe thead th {\n",
              "        text-align: right;\n",
              "    }\n",
              "</style>\n",
              "<table border=\"1\" class=\"dataframe\">\n",
              "  <thead>\n",
              "    <tr style=\"text-align: right;\">\n",
              "      <th></th>\n",
              "      <th>Year</th>\n",
              "      <th>Expenditure</th>\n",
              "    </tr>\n",
              "  </thead>\n",
              "  <tbody>\n",
              "    <tr>\n",
              "      <th>54</th>\n",
              "      <td>2014</td>\n",
              "      <td>5.091411e+10</td>\n",
              "    </tr>\n",
              "    <tr>\n",
              "      <th>55</th>\n",
              "      <td>2015</td>\n",
              "      <td>5.129548e+10</td>\n",
              "    </tr>\n",
              "    <tr>\n",
              "      <th>56</th>\n",
              "      <td>2016</td>\n",
              "      <td>5.663762e+10</td>\n",
              "    </tr>\n",
              "    <tr>\n",
              "      <th>57</th>\n",
              "      <td>2017</td>\n",
              "      <td>6.455944e+10</td>\n",
              "    </tr>\n",
              "    <tr>\n",
              "      <th>58</th>\n",
              "      <td>2018</td>\n",
              "      <td>6.651029e+10</td>\n",
              "    </tr>\n",
              "  </tbody>\n",
              "</table>\n",
              "</div>"
            ],
            "text/plain": [
              "    Year   Expenditure\n",
              "54  2014  5.091411e+10\n",
              "55  2015  5.129548e+10\n",
              "56  2016  5.663762e+10\n",
              "57  2017  6.455944e+10\n",
              "58  2018  6.651029e+10"
            ]
          },
          "metadata": {
            "tags": []
          },
          "execution_count": 336
        }
      ]
    },
    {
      "cell_type": "code",
      "metadata": {
        "id": "44CgRvcGbYG1",
        "colab_type": "code",
        "outputId": "97c1ea2c-99d9-4f0e-abab-ec155c9ff2b8",
        "colab": {
          "base_uri": "https://localhost:8080/",
          "height": 206
        }
      },
      "source": [
        "social_sector.head()"
      ],
      "execution_count": 337,
      "outputs": [
        {
          "output_type": "execute_result",
          "data": {
            "text/html": [
              "<div>\n",
              "<style scoped>\n",
              "    .dataframe tbody tr th:only-of-type {\n",
              "        vertical-align: middle;\n",
              "    }\n",
              "\n",
              "    .dataframe tbody tr th {\n",
              "        vertical-align: top;\n",
              "    }\n",
              "\n",
              "    .dataframe thead th {\n",
              "        text-align: right;\n",
              "    }\n",
              "</style>\n",
              "<table border=\"1\" class=\"dataframe\">\n",
              "  <thead>\n",
              "    <tr style=\"text-align: right;\">\n",
              "      <th></th>\n",
              "      <th>Year</th>\n",
              "      <th>Total expenditure(in crore rupees)</th>\n",
              "    </tr>\n",
              "  </thead>\n",
              "  <tbody>\n",
              "    <tr>\n",
              "      <th>0</th>\n",
              "      <td>1980-81</td>\n",
              "      <td>6754</td>\n",
              "    </tr>\n",
              "    <tr>\n",
              "      <th>1</th>\n",
              "      <td>1981-82</td>\n",
              "      <td>7659</td>\n",
              "    </tr>\n",
              "    <tr>\n",
              "      <th>2</th>\n",
              "      <td>1982-83</td>\n",
              "      <td>9353</td>\n",
              "    </tr>\n",
              "    <tr>\n",
              "      <th>3</th>\n",
              "      <td>1983-84</td>\n",
              "      <td>10786</td>\n",
              "    </tr>\n",
              "    <tr>\n",
              "      <th>4</th>\n",
              "      <td>1984-85</td>\n",
              "      <td>12419</td>\n",
              "    </tr>\n",
              "  </tbody>\n",
              "</table>\n",
              "</div>"
            ],
            "text/plain": [
              "      Year  Total expenditure(in crore rupees)\n",
              "0  1980-81                                6754\n",
              "1  1981-82                                7659\n",
              "2  1982-83                                9353\n",
              "3  1983-84                               10786\n",
              "4  1984-85                               12419"
            ]
          },
          "metadata": {
            "tags": []
          },
          "execution_count": 337
        }
      ]
    },
    {
      "cell_type": "code",
      "metadata": {
        "id": "YICoG3RDbYG6",
        "colab_type": "code",
        "outputId": "6e0d07ed-0954-4f7c-a8c5-2e45964a89f3",
        "colab": {
          "base_uri": "https://localhost:8080/",
          "height": 206
        }
      },
      "source": [
        "social_sector.tail()"
      ],
      "execution_count": 338,
      "outputs": [
        {
          "output_type": "execute_result",
          "data": {
            "text/html": [
              "<div>\n",
              "<style scoped>\n",
              "    .dataframe tbody tr th:only-of-type {\n",
              "        vertical-align: middle;\n",
              "    }\n",
              "\n",
              "    .dataframe tbody tr th {\n",
              "        vertical-align: top;\n",
              "    }\n",
              "\n",
              "    .dataframe thead th {\n",
              "        text-align: right;\n",
              "    }\n",
              "</style>\n",
              "<table border=\"1\" class=\"dataframe\">\n",
              "  <thead>\n",
              "    <tr style=\"text-align: right;\">\n",
              "      <th></th>\n",
              "      <th>Year</th>\n",
              "      <th>Total expenditure(in crore rupees)</th>\n",
              "    </tr>\n",
              "  </thead>\n",
              "  <tbody>\n",
              "    <tr>\n",
              "      <th>31</th>\n",
              "      <td>2011-12</td>\n",
              "      <td>538520</td>\n",
              "    </tr>\n",
              "    <tr>\n",
              "      <th>32</th>\n",
              "      <td>2012-13</td>\n",
              "      <td>618940</td>\n",
              "    </tr>\n",
              "    <tr>\n",
              "      <th>33</th>\n",
              "      <td>2013-14</td>\n",
              "      <td>696510</td>\n",
              "    </tr>\n",
              "    <tr>\n",
              "      <th>34</th>\n",
              "      <td>2014-15</td>\n",
              "      <td>1002230</td>\n",
              "    </tr>\n",
              "    <tr>\n",
              "      <th>35</th>\n",
              "      <td>2015-16 (RE)</td>\n",
              "      <td>1074780</td>\n",
              "    </tr>\n",
              "  </tbody>\n",
              "</table>\n",
              "</div>"
            ],
            "text/plain": [
              "            Year  Total expenditure(in crore rupees)\n",
              "31       2011-12                              538520\n",
              "32       2012-13                              618940\n",
              "33       2013-14                              696510\n",
              "34       2014-15                             1002230\n",
              "35  2015-16 (RE)                             1074780"
            ]
          },
          "metadata": {
            "tags": []
          },
          "execution_count": 338
        }
      ]
    },
    {
      "cell_type": "code",
      "metadata": {
        "id": "t7WS5SyubYG_",
        "colab_type": "code",
        "outputId": "6aaebe45-ee70-4c97-d65c-fc01c7bbef64",
        "colab": {
          "base_uri": "https://localhost:8080/",
          "height": 69
        }
      },
      "source": [
        "print(social_sector.count())"
      ],
      "execution_count": 339,
      "outputs": [
        {
          "output_type": "stream",
          "text": [
            "Year                                  36\n",
            "Total expenditure(in crore rupees)    36\n",
            "dtype: int64\n"
          ],
          "name": "stdout"
        }
      ]
    },
    {
      "cell_type": "code",
      "metadata": {
        "id": "GBlJWk6KbYHD",
        "colab_type": "code",
        "outputId": "3ad354d2-ea98-416c-e1bd-70d2e2d932ef",
        "colab": {
          "base_uri": "https://localhost:8080/",
          "height": 121
        }
      },
      "source": [
        "print(military.count())\n",
        "print(capital.count())"
      ],
      "execution_count": 340,
      "outputs": [
        {
          "output_type": "stream",
          "text": [
            "Year           59\n",
            "Expenditure    59\n",
            "dtype: int64\n",
            "State                36\n",
            "Total expenditure    36\n",
            "dtype: int64\n"
          ],
          "name": "stdout"
        }
      ]
    },
    {
      "cell_type": "code",
      "metadata": {
        "id": "SfDKOuefbYHI",
        "colab_type": "code",
        "outputId": "133dae55-88dc-4b94-cb4b-169eadc07dbc",
        "colab": {
          "base_uri": "https://localhost:8080/",
          "height": 605
        }
      },
      "source": [
        "plt.figure(figsize=(15,10))\n",
        "plt.scatter(military.iloc[:,1],military.iloc[:,0])\n",
        "plt.show()"
      ],
      "execution_count": 341,
      "outputs": [
        {
          "output_type": "display_data",
          "data": {
            "image/png": "[encoded data removed]",
            "text/plain": [
              "<Figure size 1080x720 with 1 Axes>"
            ]
          },
          "metadata": {
            "tags": []
          }
        }
      ]
    },
    {
      "cell_type": "code",
      "metadata": {
        "id": "hj6_T4cxbYHO",
        "colab_type": "code",
        "outputId": "868d839f-403b-4aad-edd4-8a8c16db5123",
        "colab": {
          "base_uri": "https://localhost:8080/",
          "height": 592
        }
      },
      "source": [
        "plt.figure(figsize=(15,10))\n",
        "plt.scatter(capital.iloc[:,1],capital.iloc[:,0])\n",
        "plt.show()"
      ],
      "execution_count": 342,
      "outputs": [
        {
          "output_type": "display_data",
          "data": {
            "image/png": "[encoded data removed]",
            "text/plain": [
              "<Figure size 1080x720 with 1 Axes>"
            ]
          },
          "metadata": {
            "tags": []
          }
        }
      ]
    },
    {
      "cell_type": "code",
      "metadata": {
        "id": "S4VpsWiUbYHT",
        "colab_type": "code",
        "outputId": "e7b7144f-3d7e-4346-bf07-c7f95e796898",
        "colab": {
          "base_uri": "https://localhost:8080/",
          "height": 592
        }
      },
      "source": [
        "plt.figure(figsize=(15,10))\n",
        "plt.scatter(social_sector.iloc[:,1],social_sector.iloc[:,0])\n",
        "plt.show()"
      ],
      "execution_count": 343,
      "outputs": [
        {
          "output_type": "display_data",
          "data": {
            "image/png": "[encoded data removed]",
            "text/plain": [
              "<Figure size 1080x720 with 1 Axes>"
            ]
          },
          "metadata": {
            "tags": []
          }
        }
      ]
    },
    {
      "cell_type": "code",
      "metadata": {
        "id": "TtgDMc92bYHY",
        "colab_type": "code",
        "colab": {}
      },
      "source": [
        "year = [x for x in range(1980,1980+36)]"
      ],
      "execution_count": 0,
      "outputs": []
    },
    {
      "cell_type": "code",
      "metadata": {
        "id": "kJFCCb7zbYHd",
        "colab_type": "code",
        "outputId": "cf4fa17f-d4f0-48ca-d918-a4287dd731cb",
        "colab": {
          "base_uri": "https://localhost:8080/",
          "height": 54
        }
      },
      "source": [
        "print(year)"
      ],
      "execution_count": 345,
      "outputs": [
        {
          "output_type": "stream",
          "text": [
            "[1980, 1981, 1982, 1983, 1984, 1985, 1986, 1987, 1988, 1989, 1990, 1991, 1992, 1993, 1994, 1995, 1996, 1997, 1998, 1999, 2000, 2001, 2002, 2003, 2004, 2005, 2006, 2007, 2008, 2009, 2010, 2011, 2012, 2013, 2014, 2015]\n"
          ],
          "name": "stdout"
        }
      ]
    },
    {
      "cell_type": "code",
      "metadata": {
        "scrolled": true,
        "id": "I7WWw2PgbYHh",
        "colab_type": "code",
        "outputId": "baa401f8-7037-4277-a0b1-5c17e0a01b9b",
        "colab": {
          "base_uri": "https://localhost:8080/",
          "height": 225
        }
      },
      "source": [
        "capital.iloc[:,0]=year\n",
        "social_sector.iloc[:,0]=year\n",
        "print(social_sector.head())\n",
        "print(capital.head())"
      ],
      "execution_count": 346,
      "outputs": [
        {
          "output_type": "stream",
          "text": [
            "   Year  Total expenditure(in crore rupees)\n",
            "0  1980                                6754\n",
            "1  1981                                7659\n",
            "2  1982                                9353\n",
            "3  1983                               10786\n",
            "4  1984                               12419\n",
            "   State  Total expenditure\n",
            "0   1980             7856.0\n",
            "1   1981             8095.0\n",
            "2   1982             8505.0\n",
            "3   1983             9738.0\n",
            "4   1984            11509.0\n"
          ],
          "name": "stdout"
        }
      ]
    },
    {
      "cell_type": "code",
      "metadata": {
        "id": "a3bSrSO5QE_x",
        "colab_type": "code",
        "colab": {
          "base_uri": "https://localhost:8080/",
          "height": 34
        },
        "outputId": "a7b8ca26-781e-4177-d171-0b7dfa765618"
      },
      "source": [
        "military.shape"
      ],
      "execution_count": 347,
      "outputs": [
        {
          "output_type": "execute_result",
          "data": {
            "text/plain": [
              "(59, 2)"
            ]
          },
          "metadata": {
            "tags": []
          },
          "execution_count": 347
        }
      ]
    },
    {
      "cell_type": "code",
      "metadata": {
        "id": "ZzRZCU6_RxqL",
        "colab_type": "code",
        "colab": {
          "base_uri": "https://localhost:8080/",
          "height": 206
        },
        "outputId": "72ec4034-bd64-4099-bad3-2a5395cad1dd"
      },
      "source": [
        "military.head()"
      ],
      "execution_count": 348,
      "outputs": [
        {
          "output_type": "execute_result",
          "data": {
            "text/html": [
              "<div>\n",
              "<style scoped>\n",
              "    .dataframe tbody tr th:only-of-type {\n",
              "        vertical-align: middle;\n",
              "    }\n",
              "\n",
              "    .dataframe tbody tr th {\n",
              "        vertical-align: top;\n",
              "    }\n",
              "\n",
              "    .dataframe thead th {\n",
              "        text-align: right;\n",
              "    }\n",
              "</style>\n",
              "<table border=\"1\" class=\"dataframe\">\n",
              "  <thead>\n",
              "    <tr style=\"text-align: right;\">\n",
              "      <th></th>\n",
              "      <th>Year</th>\n",
              "      <th>Expenditure</th>\n",
              "    </tr>\n",
              "  </thead>\n",
              "  <tbody>\n",
              "    <tr>\n",
              "      <th>0</th>\n",
              "      <td>1960</td>\n",
              "      <td>6.817657e+08</td>\n",
              "    </tr>\n",
              "    <tr>\n",
              "      <th>1</th>\n",
              "      <td>1961</td>\n",
              "      <td>8.120000e+08</td>\n",
              "    </tr>\n",
              "    <tr>\n",
              "      <th>2</th>\n",
              "      <td>1962</td>\n",
              "      <td>1.065436e+09</td>\n",
              "    </tr>\n",
              "    <tr>\n",
              "      <th>3</th>\n",
              "      <td>1963</td>\n",
              "      <td>1.795449e+09</td>\n",
              "    </tr>\n",
              "    <tr>\n",
              "      <th>4</th>\n",
              "      <td>1964</td>\n",
              "      <td>1.986654e+09</td>\n",
              "    </tr>\n",
              "  </tbody>\n",
              "</table>\n",
              "</div>"
            ],
            "text/plain": [
              "   Year   Expenditure\n",
              "0  1960  6.817657e+08\n",
              "1  1961  8.120000e+08\n",
              "2  1962  1.065436e+09\n",
              "3  1963  1.795449e+09\n",
              "4  1964  1.986654e+09"
            ]
          },
          "metadata": {
            "tags": []
          },
          "execution_count": 348
        }
      ]
    },
    {
      "cell_type": "code",
      "metadata": {
        "id": "R9BiCB8ERPew",
        "colab_type": "code",
        "colab": {}
      },
      "source": [
        "military = military.set_index('Year')"
      ],
      "execution_count": 0,
      "outputs": []
    },
    {
      "cell_type": "code",
      "metadata": {
        "id": "WVDNOJ6jRtll",
        "colab_type": "code",
        "colab": {
          "base_uri": "https://localhost:8080/",
          "height": 238
        },
        "outputId": "37246a9e-bcd3-447e-be34-dd60e8ff33c1"
      },
      "source": [
        "military.head()"
      ],
      "execution_count": 350,
      "outputs": [
        {
          "output_type": "execute_result",
          "data": {
            "text/html": [
              "<div>\n",
              "<style scoped>\n",
              "    .dataframe tbody tr th:only-of-type {\n",
              "        vertical-align: middle;\n",
              "    }\n",
              "\n",
              "    .dataframe tbody tr th {\n",
              "        vertical-align: top;\n",
              "    }\n",
              "\n",
              "    .dataframe thead th {\n",
              "        text-align: right;\n",
              "    }\n",
              "</style>\n",
              "<table border=\"1\" class=\"dataframe\">\n",
              "  <thead>\n",
              "    <tr style=\"text-align: right;\">\n",
              "      <th></th>\n",
              "      <th>Expenditure</th>\n",
              "    </tr>\n",
              "    <tr>\n",
              "      <th>Year</th>\n",
              "      <th></th>\n",
              "    </tr>\n",
              "  </thead>\n",
              "  <tbody>\n",
              "    <tr>\n",
              "      <th>1960</th>\n",
              "      <td>6.817657e+08</td>\n",
              "    </tr>\n",
              "    <tr>\n",
              "      <th>1961</th>\n",
              "      <td>8.120000e+08</td>\n",
              "    </tr>\n",
              "    <tr>\n",
              "      <th>1962</th>\n",
              "      <td>1.065436e+09</td>\n",
              "    </tr>\n",
              "    <tr>\n",
              "      <th>1963</th>\n",
              "      <td>1.795449e+09</td>\n",
              "    </tr>\n",
              "    <tr>\n",
              "      <th>1964</th>\n",
              "      <td>1.986654e+09</td>\n",
              "    </tr>\n",
              "  </tbody>\n",
              "</table>\n",
              "</div>"
            ],
            "text/plain": [
              "       Expenditure\n",
              "Year              \n",
              "1960  6.817657e+08\n",
              "1961  8.120000e+08\n",
              "1962  1.065436e+09\n",
              "1963  1.795449e+09\n",
              "1964  1.986654e+09"
            ]
          },
          "metadata": {
            "tags": []
          },
          "execution_count": 350
        }
      ]
    },
    {
      "cell_type": "code",
      "metadata": {
        "id": "2ySoPF1rVjVU",
        "colab_type": "code",
        "colab": {}
      },
      "source": [
        "from sklearn.preprocessing import MinMaxScaler\n",
        "def create_dataset(dataset, look_back=1):\n",
        "\tdataX, dataY = [], []\n",
        "\tfor i in range(len(dataset)-look_back-1):\n",
        "\t\ta = dataset[i:(i+look_back), 0]\n",
        "\t\tdataX.append(a)\n",
        "\t\tdataY.append(dataset[i + look_back, 0])\n",
        "\treturn np.array(dataX), np.array(dataY)\n",
        "# fix random seed for reproducibility\n",
        "np.random.seed(7)\n",
        "# load the dataset\n",
        "# normalize the dataset\n",
        "scaler = MinMaxScaler(feature_range=(0, 1))\n",
        "dataset = scaler.fit_transform(military)"
      ],
      "execution_count": 0,
      "outputs": []
    },
    {
      "cell_type": "code",
      "metadata": {
        "id": "4tX7JU66asiZ",
        "colab_type": "code",
        "colab": {}
      },
      "source": [
        "#print(dataset)"
      ],
      "execution_count": 0,
      "outputs": []
    },
    {
      "cell_type": "code",
      "metadata": {
        "id": "0BK4ICVQVoNs",
        "colab_type": "code",
        "colab": {}
      },
      "source": [
        "# split into train and test sets\n",
        "train_size = int(len(dataset) * 0.67)\n",
        "test_size = len(dataset) - train_size\n",
        "train, test = dataset[0:train_size,:], dataset[train_size:len(dataset),:]"
      ],
      "execution_count": 0,
      "outputs": []
    },
    {
      "cell_type": "code",
      "metadata": {
        "id": "yyw3qAm9VsV5",
        "colab_type": "code",
        "colab": {}
      },
      "source": [
        "# reshape into X=t and Y=t+1\n",
        "look_back = 1\n",
        "trainX, trainY = create_dataset(train, look_back)\n",
        "testX, testY = create_dataset(test, look_back)"
      ],
      "execution_count": 0,
      "outputs": []
    },
    {
      "cell_type": "code",
      "metadata": {
        "id": "mC3JqopbVumZ",
        "colab_type": "code",
        "colab": {}
      },
      "source": [
        "# reshape input to be [samples, time steps, features]\n",
        "trainX = np.reshape(trainX, (trainX.shape[0], trainX.shape[1], 1))\n",
        "testX = np.reshape(testX, (testX.shape[0], testX.shape[1], 1))"
      ],
      "execution_count": 0,
      "outputs": []
    },
    {
      "cell_type": "code",
      "metadata": {
        "id": "PDjggajgVzbl",
        "colab_type": "code",
        "colab": {
          "base_uri": "https://localhost:8080/",
          "height": 1000
        },
        "outputId": "34eadd3a-771f-4b8d-98f4-4d17c3c2860c"
      },
      "source": [
        "import keras\n",
        "from keras.layers import LSTM,Dense\n",
        "from keras.models import Sequential\n",
        "# create and fit the LSTM network\n",
        "model = Sequential()\n",
        "model.add(LSTM(17, input_shape=(look_back, 1)))\n",
        "model.add(Dense(5))\n",
        "model.add(Dense(1))\n",
        "model.compile(loss='mean_squared_error', optimizer='adam')\n",
        "model.fit(trainX, trainY, epochs=60, batch_size=1, verbose=2)"
      ],
      "execution_count": 388,
      "outputs": [
        {
          "output_type": "stream",
          "text": [
            "Epoch 1/60\n",
            " - 5s - loss: 0.0040\n",
            "Epoch 2/60\n",
            " - 0s - loss: 0.0023\n",
            "Epoch 3/60\n",
            " - 0s - loss: 0.0021\n",
            "Epoch 4/60\n",
            " - 0s - loss: 0.0018\n",
            "Epoch 5/60\n",
            " - 0s - loss: 0.0016\n",
            "Epoch 6/60\n",
            " - 0s - loss: 0.0013\n",
            "Epoch 7/60\n",
            " - 0s - loss: 0.0012\n",
            "Epoch 8/60\n",
            " - 0s - loss: 9.5699e-04\n",
            "Epoch 9/60\n",
            " - 0s - loss: 6.8914e-04\n",
            "Epoch 10/60\n",
            " - 0s - loss: 5.1814e-04\n",
            "Epoch 11/60\n",
            " - 0s - loss: 3.5355e-04\n",
            "Epoch 12/60\n",
            " - 0s - loss: 2.3307e-04\n",
            "Epoch 13/60\n",
            " - 0s - loss: 1.8263e-04\n",
            "Epoch 14/60\n",
            " - 0s - loss: 1.4723e-04\n",
            "Epoch 15/60\n",
            " - 0s - loss: 1.2806e-04\n",
            "Epoch 16/60\n",
            " - 0s - loss: 1.1378e-04\n",
            "Epoch 17/60\n",
            " - 0s - loss: 1.3971e-04\n",
            "Epoch 18/60\n",
            " - 0s - loss: 1.1596e-04\n",
            "Epoch 19/60\n",
            " - 0s - loss: 1.0296e-04\n",
            "Epoch 20/60\n",
            " - 0s - loss: 1.1440e-04\n",
            "Epoch 21/60\n",
            " - 0s - loss: 1.0992e-04\n",
            "Epoch 22/60\n",
            " - 0s - loss: 1.0554e-04\n",
            "Epoch 23/60\n",
            " - 0s - loss: 1.2902e-04\n",
            "Epoch 24/60\n",
            " - 0s - loss: 1.1831e-04\n",
            "Epoch 25/60\n",
            " - 0s - loss: 1.3233e-04\n",
            "Epoch 26/60\n",
            " - 0s - loss: 1.1368e-04\n",
            "Epoch 27/60\n",
            " - 0s - loss: 1.1262e-04\n",
            "Epoch 28/60\n",
            " - 0s - loss: 1.2056e-04\n",
            "Epoch 29/60\n",
            " - 0s - loss: 1.0719e-04\n",
            "Epoch 30/60\n",
            " - 0s - loss: 1.0545e-04\n",
            "Epoch 31/60\n",
            " - 0s - loss: 1.2367e-04\n",
            "Epoch 32/60\n",
            " - 0s - loss: 1.2477e-04\n",
            "Epoch 33/60\n",
            " - 0s - loss: 1.2322e-04\n",
            "Epoch 34/60\n",
            " - 0s - loss: 1.2725e-04\n",
            "Epoch 35/60\n",
            " - 0s - loss: 1.1378e-04\n",
            "Epoch 36/60\n",
            " - 0s - loss: 1.2638e-04\n",
            "Epoch 37/60\n",
            " - 0s - loss: 1.2633e-04\n",
            "Epoch 38/60\n",
            " - 0s - loss: 1.2374e-04\n",
            "Epoch 39/60\n",
            " - 0s - loss: 1.1795e-04\n",
            "Epoch 40/60\n",
            " - 0s - loss: 1.1729e-04\n",
            "Epoch 41/60\n",
            " - 0s - loss: 1.2364e-04\n",
            "Epoch 42/60\n",
            " - 0s - loss: 1.2228e-04\n",
            "Epoch 43/60\n",
            " - 0s - loss: 1.2816e-04\n",
            "Epoch 44/60\n",
            " - 0s - loss: 1.4627e-04\n",
            "Epoch 45/60\n",
            " - 0s - loss: 1.1165e-04\n",
            "Epoch 46/60\n",
            " - 0s - loss: 1.5536e-04\n",
            "Epoch 47/60\n",
            " - 0s - loss: 2.0609e-04\n",
            "Epoch 48/60\n",
            " - 0s - loss: 1.5807e-04\n",
            "Epoch 49/60\n",
            " - 0s - loss: 1.0493e-04\n",
            "Epoch 50/60\n",
            " - 0s - loss: 1.2632e-04\n",
            "Epoch 51/60\n",
            " - 0s - loss: 1.3210e-04\n",
            "Epoch 52/60\n",
            " - 0s - loss: 1.4978e-04\n",
            "Epoch 53/60\n",
            " - 0s - loss: 1.2420e-04\n",
            "Epoch 54/60\n",
            " - 0s - loss: 1.1584e-04\n",
            "Epoch 55/60\n",
            " - 0s - loss: 1.1465e-04\n",
            "Epoch 56/60\n",
            " - 0s - loss: 1.0760e-04\n",
            "Epoch 57/60\n",
            " - 0s - loss: 1.1585e-04\n",
            "Epoch 58/60\n",
            " - 0s - loss: 1.0874e-04\n",
            "Epoch 59/60\n",
            " - 0s - loss: 1.3862e-04\n",
            "Epoch 60/60\n",
            " - 0s - loss: 1.0918e-04\n"
          ],
          "name": "stdout"
        },
        {
          "output_type": "execute_result",
          "data": {
            "text/plain": [
              "<keras.callbacks.History at 0x7fd1d1c64ef0>"
            ]
          },
          "metadata": {
            "tags": []
          },
          "execution_count": 388
        }
      ]
    },
    {
      "cell_type": "code",
      "metadata": {
        "id": "MbaaeRKUV1jT",
        "colab_type": "code",
        "colab": {}
      },
      "source": [
        "# make predictions\n",
        "trainPredict = model.predict(trainX)\n",
        "testPredict = model.predict(testX)"
      ],
      "execution_count": 0,
      "outputs": []
    },
    {
      "cell_type": "code",
      "metadata": {
        "id": "_ahSruyuV4cP",
        "colab_type": "code",
        "colab": {}
      },
      "source": [
        "# invert predictions\n",
        "trainPredict = scaler.inverse_transform(trainPredict)\n",
        "trainY = scaler.inverse_transform([trainY])\n",
        "testPredict = scaler.inverse_transform(testPredict)\n",
        "testY = scaler.inverse_transform([testY])"
      ],
      "execution_count": 0,
      "outputs": []
    },
    {
      "cell_type": "code",
      "metadata": {
        "id": "jgk0dcJjcALY",
        "colab_type": "code",
        "colab": {
          "base_uri": "https://localhost:8080/",
          "height": 399
        },
        "outputId": "e1494f12-bda1-4be5-c874-d26ec60e3822"
      },
      "source": [
        "print(testPredict,testY)"
      ],
      "execution_count": 391,
      "outputs": [
        {
          "output_type": "stream",
          "text": [
            "[[1.4145521e+10]\n",
            " [1.4547476e+10]\n",
            " [1.4868867e+10]\n",
            " [1.5021906e+10]\n",
            " [1.6652118e+10]\n",
            " [2.0692881e+10]\n",
            " [2.3643374e+10]\n",
            " [2.4561875e+10]\n",
            " [2.9070055e+10]\n",
            " [3.4066330e+10]\n",
            " [4.0102199e+10]\n",
            " [4.7877493e+10]\n",
            " [5.1606954e+10]\n",
            " [4.9064133e+10]\n",
            " [4.9260630e+10]\n",
            " [5.2951884e+10]\n",
            " [5.3352202e+10]\n",
            " [5.8941846e+10]] [[1.42875142e+10 1.46006423e+10 1.47496673e+10 1.63339866e+10\n",
            "  2.02385665e+10 2.30723129e+10 2.39519280e+10 2.82547734e+10\n",
            "  3.30023767e+10 3.87221544e+10 4.60904457e+10 4.96338158e+10\n",
            "  4.72169200e+10 4.74035288e+10 5.09141083e+10 5.12954838e+10\n",
            "  5.66376226e+10 6.45594353e+10]]\n"
          ],
          "name": "stdout"
        }
      ]
    },
    {
      "cell_type": "code",
      "metadata": {
        "id": "9zhcLqEuV9im",
        "colab_type": "code",
        "colab": {
          "base_uri": "https://localhost:8080/",
          "height": 52
        },
        "outputId": "1bb4650c-0f05-4d3c-94ae-5a5f23755a95"
      },
      "source": [
        "import math\n",
        "from sklearn.metrics import mean_squared_error\n",
        "# calculate root mean squared error\n",
        "trainScore = math.sqrt(mean_squared_error(trainY[0], trainPredict[:,0]))\n",
        "print('Train Score: %.2f RMSE' % (trainScore))\n",
        "testScore = math.sqrt(mean_squared_error(testY[0], testPredict[:,0]))\n",
        "print('Test Score: %.2f RMSE' % (testScore))"
      ],
      "execution_count": 392,
      "outputs": [
        {
          "output_type": "stream",
          "text": [
            "Train Score: 652686388.83 RMSE\n",
            "Test Score: 3161911718.10 RMSE\n"
          ],
          "name": "stdout"
        }
      ]
    },
    {
      "cell_type": "code",
      "metadata": {
        "id": "EpkLGXaVV_ps",
        "colab_type": "code",
        "colab": {}
      },
      "source": [
        "# shift train predictions for plotting\n",
        "trainPredictPlot = np.empty_like(dataset)\n",
        "trainPredictPlot[:, :] = np.nan\n",
        "trainPredictPlot[look_back:len(trainPredict)+look_back, :] = trainPredict"
      ],
      "execution_count": 0,
      "outputs": []
    },
    {
      "cell_type": "code",
      "metadata": {
        "id": "8mut19qjR-Hj",
        "colab_type": "code",
        "colab": {
          "base_uri": "https://localhost:8080/",
          "height": 276
        },
        "outputId": "2ccf9073-1e1c-4157-d32e-775b19186c51"
      },
      "source": [
        "\n",
        "# shift test predictions for plotting\n",
        "testPredictPlot = np.empty_like(dataset)\n",
        "testPredictPlot[:, :] = np.nan\n",
        "testPredictPlot[len(trainPredict)+(look_back*2)+1:len(dataset)-1, :] = testPredict\n",
        "# plot baseline and predictions\n",
        "plt.plot(scaler.inverse_transform(dataset))\n",
        "plt.plot(trainPredictPlot)\n",
        "plt.plot(testPredictPlot)\n",
        "plt.show()"
      ],
      "execution_count": 394,
      "outputs": [
        {
          "output_type": "display_data",
          "data": {
            "image/png": "[encoded data removed]",
            "text/plain": [
              "<Figure size 432x288 with 1 Axes>"
            ]
          },
          "metadata": {
            "tags": []
          }
        }
      ]
    },
    {
      "cell_type": "code",
      "metadata": {
        "id": "mruYICMzT3L4",
        "colab_type": "code",
        "colab": {
          "base_uri": "https://localhost:8080/",
          "height": 34
        },
        "outputId": "53878fd6-3367-43c4-d85a-dc2547233f3f"
      },
      "source": [
        "print(testPredict[-1])"
      ],
      "execution_count": 363,
      "outputs": [
        {
          "output_type": "stream",
          "text": [
            "[5.8549092e+10]\n"
          ],
          "name": "stdout"
        }
      ]
    },
    {
      "cell_type": "code",
      "metadata": {
        "id": "l7ftF6I2d97f",
        "colab_type": "code",
        "colab": {
          "base_uri": "https://localhost:8080/",
          "height": 104
        },
        "outputId": "6f4ad17e-4a3d-4bf2-d1b9-b3e3d7d4df8d"
      },
      "source": [
        "print(testY[-1])"
      ],
      "execution_count": 364,
      "outputs": [
        {
          "output_type": "stream",
          "text": [
            "[1.42875142e+10 1.46006423e+10 1.47496673e+10 1.63339866e+10\n",
            " 2.02385665e+10 2.30723129e+10 2.39519280e+10 2.82547734e+10\n",
            " 3.30023767e+10 3.87221544e+10 4.60904457e+10 4.96338158e+10\n",
            " 4.72169200e+10 4.74035288e+10 5.09141083e+10 5.12954838e+10\n",
            " 5.66376226e+10 6.45594353e+10]\n"
          ],
          "name": "stdout"
        }
      ]
    },
    {
      "cell_type": "code",
      "metadata": {
        "id": "g4sP6_uieINX",
        "colab_type": "code",
        "colab": {
          "base_uri": "https://localhost:8080/",
          "height": 330
        },
        "outputId": "5e14298c-c5a6-493e-8cb2-737b8cdc5712"
      },
      "source": [
        "print(testPredict)"
      ],
      "execution_count": 365,
      "outputs": [
        {
          "output_type": "stream",
          "text": [
            "[[1.4964864e+10]\n",
            " [1.5361092e+10]\n",
            " [1.5677831e+10]\n",
            " [1.5828631e+10]\n",
            " [1.7434094e+10]\n",
            " [2.1406411e+10]\n",
            " [2.4300659e+10]\n",
            " [2.5200587e+10]\n",
            " [2.9610416e+10]\n",
            " [3.4484011e+10]\n",
            " [4.0353087e+10]\n",
            " [4.7884673e+10]\n",
            " [5.1486122e+10]\n",
            " [4.9031348e+10]\n",
            " [4.9221153e+10]\n",
            " [5.2783174e+10]\n",
            " [5.3169070e+10]\n",
            " [5.8549092e+10]]\n"
          ],
          "name": "stdout"
        }
      ]
    },
    {
      "cell_type": "code",
      "metadata": {
        "id": "RQKI8lpleY90",
        "colab_type": "code",
        "colab": {
          "base_uri": "https://localhost:8080/",
          "height": 104
        },
        "outputId": "c3f9c22c-cee2-423b-fbc8-3806dd08937f"
      },
      "source": [
        "print(testY)"
      ],
      "execution_count": 366,
      "outputs": [
        {
          "output_type": "stream",
          "text": [
            "[[1.42875142e+10 1.46006423e+10 1.47496673e+10 1.63339866e+10\n",
            "  2.02385665e+10 2.30723129e+10 2.39519280e+10 2.82547734e+10\n",
            "  3.30023767e+10 3.87221544e+10 4.60904457e+10 4.96338158e+10\n",
            "  4.72169200e+10 4.74035288e+10 5.09141083e+10 5.12954838e+10\n",
            "  5.66376226e+10 6.45594353e+10]]\n"
          ],
          "name": "stdout"
        }
      ]
    },
    {
      "cell_type": "code",
      "metadata": {
        "id": "53GuqV8ah16_",
        "colab_type": "code",
        "colab": {
          "base_uri": "https://localhost:8080/",
          "height": 34
        },
        "outputId": "2e6ab09d-aa6f-48cd-c904-b9fe2081c650"
      },
      "source": [
        "print(np.size(testPredict,0),np.size(testY,1))"
      ],
      "execution_count": 367,
      "outputs": [
        {
          "output_type": "stream",
          "text": [
            "18 18\n"
          ],
          "name": "stdout"
        }
      ]
    },
    {
      "cell_type": "code",
      "metadata": {
        "id": "7e3DZ-LVecrD",
        "colab_type": "code",
        "colab": {
          "base_uri": "https://localhost:8080/",
          "height": 660
        },
        "outputId": "2d90a894-7baa-4d34-fece-af9d3459a09a"
      },
      "source": [
        "print(trainPredict)"
      ],
      "execution_count": 368,
      "outputs": [
        {
          "output_type": "stream",
          "text": [
            "[[1.8040346e+09]\n",
            " [1.9315073e+09]\n",
            " [2.1797179e+09]\n",
            " [2.8957550e+09]\n",
            " [3.0835610e+09]\n",
            " [3.2204861e+09]\n",
            " [2.7639127e+09]\n",
            " [2.5937364e+09]\n",
            " [2.6910036e+09]\n",
            " [2.7936335e+09]\n",
            " [2.9325967e+09]\n",
            " [3.3475689e+09]\n",
            " [3.5855964e+09]\n",
            " [3.6177513e+09]\n",
            " [3.9776187e+09]\n",
            " [4.3997404e+09]\n",
            " [4.3713976e+09]\n",
            " [4.5511107e+09]\n",
            " [5.0435927e+09]\n",
            " [5.6507459e+09]\n",
            " [6.4742636e+09]\n",
            " [6.9290691e+09]\n",
            " [7.3495158e+09]\n",
            " [7.8754918e+09]\n",
            " [8.0008678e+09]\n",
            " [8.6091530e+09]\n",
            " [1.0580833e+10]\n",
            " [1.1923355e+10]\n",
            " [1.2394826e+10]\n",
            " [1.1634461e+10]\n",
            " [1.1581483e+10]\n",
            " [9.6631409e+09]\n",
            " [9.1243182e+09]\n",
            " [9.2944230e+09]\n",
            " [9.9212524e+09]\n",
            " [1.0796397e+10]\n",
            " [1.0946984e+10]]\n"
          ],
          "name": "stdout"
        }
      ]
    },
    {
      "cell_type": "code",
      "metadata": {
        "id": "SCKGDwVne6Bf",
        "colab_type": "code",
        "colab": {
          "base_uri": "https://localhost:8080/",
          "height": 191
        },
        "outputId": "259faf51-6c57-4c50-965c-e804fae0a23a"
      },
      "source": [
        "print(trainY)"
      ],
      "execution_count": 369,
      "outputs": [
        {
          "output_type": "stream",
          "text": [
            "[[8.12000000e+08 1.06543606e+09 1.79544929e+09 1.98665449e+09\n",
            "  2.12598963e+09 1.66115491e+09 1.48773333e+09 1.58686667e+09\n",
            "  1.69143333e+09 1.83296667e+09 2.25525698e+09 2.49724471e+09\n",
            "  2.52992105e+09 2.89541572e+09 3.32364680e+09 3.29491061e+09\n",
            "  3.47708094e+09 3.97581913e+09 4.58973835e+09 5.42080952e+09\n",
            "  5.87900704e+09 6.30210796e+09 6.83076870e+09 6.95668245e+09\n",
            "  7.56702402e+09 9.53936309e+09 1.08774062e+10 1.13464192e+10\n",
            "  1.05897969e+10 1.05370354e+10 8.62247388e+09 8.08323141e+09\n",
            "  8.25354258e+09 8.88055123e+09 9.75446463e+09 9.90467274e+09\n",
            "  1.14648834e+10]]\n"
          ],
          "name": "stdout"
        }
      ]
    },
    {
      "cell_type": "code",
      "metadata": {
        "id": "KbsOELxSe_vu",
        "colab_type": "code",
        "colab": {
          "base_uri": "https://localhost:8080/",
          "height": 104
        },
        "outputId": "616de4cf-7837-438b-8b44-b15bc7e312f1"
      },
      "source": [
        "print(testY)"
      ],
      "execution_count": 370,
      "outputs": [
        {
          "output_type": "stream",
          "text": [
            "[[1.42875142e+10 1.46006423e+10 1.47496673e+10 1.63339866e+10\n",
            "  2.02385665e+10 2.30723129e+10 2.39519280e+10 2.82547734e+10\n",
            "  3.30023767e+10 3.87221544e+10 4.60904457e+10 4.96338158e+10\n",
            "  4.72169200e+10 4.74035288e+10 5.09141083e+10 5.12954838e+10\n",
            "  5.66376226e+10 6.45594353e+10]]\n"
          ],
          "name": "stdout"
        }
      ]
    },
    {
      "cell_type": "code",
      "metadata": {
        "id": "e-_S3U67jJlM",
        "colab_type": "code",
        "colab": {}
      },
      "source": [
        ""
      ],
      "execution_count": 0,
      "outputs": []
    }
  ]
}
